{
 "cells": [
  {
   "cell_type": "code",
   "execution_count": null,
   "metadata": {},
   "outputs": [],
   "source": [
    "from abc import ABC, abstractmethod\n",
    "\n",
    "import matplotlib.pyplot as plt\n",
    "import numpy as np\n",
    "from scipy.stats import norm\n",
    "from sklearn.linear_model import LogisticRegression\n",
    "from statsmodels.discrete.discrete_model import Probit\n",
    "\n",
    "stimulus_range = (9, 16)\n",
    "num_trials = 10000\n",
    "bias = 0\n",
    "stim_weight = 4\n"
   ]
  },
  {
   "cell_type": "code",
   "execution_count": null,
   "metadata": {},
   "outputs": [],
   "source": [
    "class Model(ABC):\n",
    "    def __init__(self, bias: float, stim_weight: float):\n",
    "        self._bias = bias\n",
    "        self._stim_weight = stim_weight\n",
    "\n",
    "    @abstractmethod\n",
    "    def __call__(self, stimuli: np.ndarray) -> np.ndarray:\n",
    "        raise NotImplementedError\n",
    "\n",
    "\n",
    "class LogisticModel(Model):\n",
    "    def __call__(self, stimuli: np.ndarray) -> np.ndarray:\n",
    "        return 1 / (1 + np.exp(-(self._bias + self._stim_weight * stimuli)))\n",
    "\n",
    "\n",
    "class ProbitModel(Model):\n",
    "    def __call__(self, stimuli: np.ndarray) -> np.ndarray:\n",
    "        return norm.cdf(self._bias + self._stim_weight * stimuli)\n",
    "\n",
    "\n",
    "def simulate_data(\n",
    "    stimulus_range: tuple[int, int], num_trials: int, model: Model\n",
    ") -> tuple[np.ndarray, np.ndarray]:\n",
    "    \"\"\"\n",
    "    Simulates data from perceptual decision-making experiment using logistic regression.\n",
    "\n",
    "    Args:\n",
    "        stimulus_range: Range of values stimuli can take on.\n",
    "        num_trials: Number of trials to simulate.\n",
    "\n",
    "    Returns:\n",
    "        stimuli: Stimuli presented to the subject.\n",
    "        responses: Subject's responses.\n",
    "    \"\"\"\n",
    "    stimuli = np.random.uniform(*stimulus_range, size=num_trials)\n",
    "    threshold = np.mean(stimulus_range)\n",
    "    stimuli = stimuli - threshold\n",
    "    probabilities = model(stimuli)\n",
    "    responses = np.random.binomial(1, probabilities)\n",
    "    return stimuli, responses\n",
    "\n"
   ]
  },
  {
   "cell_type": "code",
   "execution_count": null,
   "metadata": {},
   "outputs": [],
   "source": [
    "model = LogisticModel(bias, stim_weight)\n",
    "stimuli, responses = simulate_data(stimulus_range, num_trials, model)\n",
    "sorted_stimuli = np.sort(stimuli)\n"
   ]
  },
  {
   "cell_type": "code",
   "execution_count": null,
   "metadata": {},
   "outputs": [],
   "source": [
    "lr = LogisticRegression()\n",
    "lr.fit(stimuli.reshape(-1, 1), responses)\n",
    "probabilities = lr.predict_proba(sorted_stimuli.reshape(-1, 1))[:, 1]\n"
   ]
  },
  {
   "cell_type": "code",
   "execution_count": null,
   "metadata": {},
   "outputs": [],
   "source": [
    "plt.scatter(stimuli, responses, label=\"responses\")\n",
    "true_y = model(sorted_stimuli)\n",
    "fit_y = probabilities\n",
    "plt.plot(sorted_stimuli, true_y, color=\"red\", label=\"true model\")\n",
    "plt.plot(sorted_stimuli, fit_y, color=\"green\", label=\"fit model\")\n",
    "plt.legend()\n"
   ]
  },
  {
   "cell_type": "code",
   "execution_count": null,
   "metadata": {},
   "outputs": [],
   "source": [
    "model = ProbitModel(bias, stim_weight)\n",
    "stimuli, responses = simulate_data(stimulus_range, num_trials, model)\n",
    "sorted_stimuli = np.sort(stimuli)\n"
   ]
  },
  {
   "cell_type": "code",
   "execution_count": null,
   "metadata": {},
   "outputs": [],
   "source": [
    "probit = Probit(responses, stimuli)\n",
    "probit_results = probit.fit()\n",
    "probabilities = probit_results.predict(sorted_stimuli)\n"
   ]
  },
  {
   "cell_type": "code",
   "execution_count": null,
   "metadata": {},
   "outputs": [],
   "source": [
    "plt.scatter(stimuli, responses, label=\"responses\")\n",
    "true_y = model(sorted_stimuli)\n",
    "fit_y = probabilities\n",
    "plt.plot(sorted_stimuli, true_y, color=\"red\", label=\"true model\")\n",
    "plt.plot(sorted_stimuli, fit_y, color=\"green\", label=\"fit model\")\n",
    "plt.legend()\n"
   ]
  }
 ],
 "metadata": {
  "kernelspec": {
   "display_name": "Python 3.10.4 ('hrl')",
   "language": "python",
   "name": "python3"
  },
  "language_info": {
   "codemirror_mode": {
    "name": "ipython",
    "version": 3
   },
   "file_extension": ".py",
   "mimetype": "text/x-python",
   "name": "python",
   "nbconvert_exporter": "python",
   "pygments_lexer": "ipython3",
   "version": "3.10.4"
  },
  "vscode": {
   "interpreter": {
    "hash": "ef50397c757689d52f3728863d489e0861ec0ea1c57ba14364404d0d1bc829e9"
   }
  }
 },
 "nbformat": 4,
 "nbformat_minor": 2
}
