{
 "cells": [
  {
   "cell_type": "code",
   "execution_count": null,
   "metadata": {},
   "outputs": [],
   "source": [
    "from abc import ABC, abstractmethod\n",
    "\n",
    "import numpy as np\n",
    "from scipy.optimize import Bounds, LinearConstraint, minimize\n",
    "from scipy.stats import norm\n",
    "from tqdm import tqdm\n",
    "\n",
    "from hrl.model import LogisticDecisionModel\n",
    "from hrl.hmm import generate_data, baum_welch"
   ]
  },
  {
   "cell_type": "code",
   "execution_count": null,
   "metadata": {},
   "outputs": [],
   "source": [
    "initial_probs = [0.5, 0.5]\n",
    "transition_probs = np.array(\n",
    "    [\n",
    "        [0.95, 0.05],\n",
    "        [0.02, 0.98],\n",
    "    ]\n",
    ")\n",
    "decision_models = [\n",
    "    LogisticDecisionModel(bias=0, stim_weight=5),\n",
    "    LogisticDecisionModel(bias=0.5, stim_weight=0)\n",
    "]\n",
    "time_steps = 250\n",
    "num_sequences = 100\n",
    "\n",
    "stimuli, data = generate_data(\n",
    "    initial_probs, transition_probs, decision_models, time_steps, num_sequences\n",
    ")\n",
    "\n",
    "baum_welch(stimuli, data, 2, LogisticDecisionModel)"
   ]
  }
 ],
 "metadata": {
  "kernelspec": {
   "display_name": "Python 3.10.4 ('hrl')",
   "language": "python",
   "name": "python3"
  },
  "language_info": {
   "codemirror_mode": {
    "name": "ipython",
    "version": 3
   },
   "file_extension": ".py",
   "mimetype": "text/x-python",
   "name": "python",
   "nbconvert_exporter": "python",
   "pygments_lexer": "ipython3",
   "version": "3.10.4"
  },
  "vscode": {
   "interpreter": {
    "hash": "ef50397c757689d52f3728863d489e0861ec0ea1c57ba14364404d0d1bc829e9"
   }
  }
 },
 "nbformat": 4,
 "nbformat_minor": 2
}
