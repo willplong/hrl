{
 "cells": [
  {
   "cell_type": "code",
   "execution_count": null,
   "metadata": {},
   "outputs": [],
   "source": [
    "import matplotlib.pyplot as plt\n",
    "import numpy as np\n",
    "\n",
    "from hrl.model import DecisionModel, RLDecisionModel\n",
    "\n"
   ]
  },
  {
   "cell_type": "code",
   "execution_count": null,
   "metadata": {},
   "outputs": [],
   "source": [
    "def generate_stimuli(\n",
    "    lower_bounds: float | np.ndarray, upper_bounds: float | np.ndarray, num_trials: int\n",
    ") -> np.ndarray:\n",
    "    \"\"\"\n",
    "    Generate experimental stimuli using a uniform distribution.\n",
    "\n",
    "    Args:\n",
    "        lower_bounds: Lower bounds of each type of stimulus.\n",
    "        upper_bounds: Upper bounds of each type of stimulus.\n",
    "        num_trials: Number of trials to generate stimuli for.\n",
    "    \"\"\"\n",
    "    num_stim = np.broadcast(lower_bounds, upper_bounds).size\n",
    "    return np.random.uniform(lower_bounds, upper_bounds, size=(num_trials, num_stim))\n",
    "\n"
   ]
  },
  {
   "cell_type": "code",
   "execution_count": null,
   "metadata": {},
   "outputs": [],
   "source": [
    "# true_model = LogisticDecisionModel(bias=0, weights=10)\n",
    "true_model = RLDecisionModel(mu=12.5, sigma=1, gamma_l=0.1, gamma_h=0.2)\n",
    "stimuli = generate_stimuli(9, 16, 10000)\n",
    "actions = true_model.simulate(stimuli)\n",
    "\n",
    "print(true_model)\n",
    "print(stimuli.shape)\n",
    "print(stimuli[:10])\n",
    "print(actions.shape)\n",
    "print(actions[:10])\n",
    "\n"
   ]
  },
  {
   "cell_type": "code",
   "execution_count": null,
   "metadata": {},
   "outputs": [],
   "source": [
    "x = np.linspace(stimuli.min(), stimuli.max(), 100)\n",
    "y = true_model.action_probabilities(x)[:, 1]\n",
    "plt.plot(x, y)\n",
    "plt.ylim(0, 1)\n"
   ]
  },
  {
   "cell_type": "code",
   "execution_count": null,
   "metadata": {},
   "outputs": [],
   "source": [
    "fit_model = type(true_model)()\n",
    "fit_model.fit(stimuli, actions)\n",
    "print(fit_model)\n",
    "\n"
   ]
  },
  {
   "cell_type": "code",
   "execution_count": null,
   "metadata": {},
   "outputs": [],
   "source": [
    "def plot_log_likelihood_vs_num_trials(\n",
    "    true_model: DecisionModel,\n",
    "    stimuli: np.ndarray,\n",
    "    actions: np.ndarray | None = None,\n",
    "    num_trials_to_test: np.ndarray = np.array([10, 30, 100, 300, 1000, 3000, 10000]),\n",
    ") -> np.ndarray:\n",
    "    \"\"\"\n",
    "    Plot the log likelihood of a model as a function of the number of trials.\n",
    "\n",
    "    Args:\n",
    "        true_model: The model used to simulate the decisions.\n",
    "        stimuli: The stimuli presented to the subject.\n",
    "        actions: The actions taken by the subject. If None, the actions are simulated.\n",
    "        num_trials: The number of trials to use for each log likelihood computation.\n",
    "    \"\"\"\n",
    "    if len(stimuli) < num_trials_to_test.max():\n",
    "        raise ValueError(\"Not enough stimuli to test.\")\n",
    "    if actions is None:\n",
    "        actions = true_model.simulate(stimuli)\n",
    "    log_likelihoods = []\n",
    "    for num_trials in num_trials_to_test:\n",
    "        fit_model = type(true_model)()\n",
    "        stim_i = stimuli[:num_trials]\n",
    "        action_i = actions[:num_trials]\n",
    "        fit_model.fit(stim_i, action_i)\n",
    "        log_likelihoods.append(fit_model.log_likelihood(stimuli, actions))\n",
    "    plt.semilogx(num_trials_to_test, log_likelihoods)\n",
    "    plt.axhline(\n",
    "        true_model.log_likelihood(stimuli, actions),\n",
    "        color=\"red\",\n",
    "        linestyle=\"--\",\n",
    "        label=\"True Model\",\n",
    "    )\n",
    "    plt.xlabel(\"# Trials\")\n",
    "    plt.ylabel(\"Log Likelihood\")\n",
    "    plt.legend()\n",
    "    plt.show()\n",
    "\n",
    "\n",
    "def plot_params_vs_num_trials(\n",
    "    true_model: DecisionModel,\n",
    "    stimuli: np.ndarray,\n",
    "    actions: np.ndarray | None = None,\n",
    "    num_trials_to_test: np.ndarray = np.array([10, 30, 100, 300, 1000, 3000, 10000]),\n",
    "    num_repeats: int = 10,\n",
    ") -> np.ndarray:\n",
    "    \"\"\"\n",
    "    Plot the parameters of a model as a function of the number of trials.\n",
    "\n",
    "    Args:\n",
    "        true_model: The model used to simulate the decisions.\n",
    "        stimuli: The stimuli presented to the subject.\n",
    "        actions: The actions taken by the subject. If None, the actions are simulated.\n",
    "        num_trials: The number of trials to use for each log likelihood computation.\n",
    "        num_repeats: The number of times to repeat the fit for each number of trials.\n",
    "    \"\"\"\n",
    "    if len(stimuli) < num_trials_to_test.max():\n",
    "        raise ValueError(\"Not enough stimuli to test.\")\n",
    "    if actions is None:\n",
    "        actions = true_model.simulate(stimuli)\n",
    "    true_params = true_model.params\n",
    "    params = []\n",
    "    for num_trials in num_trials_to_test:\n",
    "        param_i = []\n",
    "        for _ in range(num_repeats):\n",
    "            stim_i = stimuli[:num_trials]\n",
    "            action_i = actions[:num_trials]\n",
    "            fit_model = type(true_model)()\n",
    "            fit_model.fit(stim_i, action_i)\n",
    "            param_i.append(fit_model.params)\n",
    "        params.append(np.array(param_i))\n",
    "    params = np.array(params)\n",
    "    params = params.reshape(-1, params.shape[-1])\n",
    "    params += np.random.normal(0, 0.01, size=params.shape)\n",
    "    x = np.repeat(num_trials_to_test, num_repeats)\n",
    "    fig, axes = plt.subplots(1, params.shape[-1], figsize=(params.shape[-1] * 5, 5))\n",
    "    for i in range(params.shape[-1]):\n",
    "        axes[i].scatter(x, params[:, i])\n",
    "        axes[i].axhline(true_params[i], color=\"red\", linestyle=\"--\", label=\"True Model\")\n",
    "        axes[i].set_xscale(\"log\")\n",
    "        axes[i].set_xlabel(\"# Trials\")\n",
    "        axes[i].set_ylabel(fit_model.param_names[i])\n",
    "\n"
   ]
  },
  {
   "cell_type": "code",
   "execution_count": null,
   "metadata": {},
   "outputs": [],
   "source": [
    "plot_log_likelihood_vs_num_trials(true_model, stimuli, actions)\n"
   ]
  },
  {
   "cell_type": "code",
   "execution_count": null,
   "metadata": {},
   "outputs": [],
   "source": [
    "plot_params_vs_num_trials(true_model, stimuli, actions)\n",
    "\n"
   ]
  }
 ],
 "metadata": {
  "language_info": {
   "codemirror_mode": {
    "name": "ipython",
    "version": 3
   },
   "file_extension": ".py",
   "mimetype": "text/x-python",
   "name": "python",
   "nbconvert_exporter": "python",
   "pygments_lexer": "ipython3",
   "version": 3
  }
 },
 "nbformat": 4,
 "nbformat_minor": 2
}
