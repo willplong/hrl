{
 "cells": [
  {
   "cell_type": "code",
   "execution_count": null,
   "metadata": {},
   "outputs": [],
   "source": [
    "import os\n",
    "\n",
    "import matplotlib.pyplot as plt\n",
    "import numpy as np\n",
    "import requests\n",
    "from scipy.io import loadmat\n",
    "from scipy.optimize import minimize\n",
    "from scipy.stats import norm\n"
   ]
  },
  {
   "cell_type": "code",
   "execution_count": null,
   "metadata": {},
   "outputs": [],
   "source": [
    "url = \"https://labshare.cshl.edu/shares/library/repository/38957/lapseDataset2020.mat\"\n",
    "filename = \"lapse_data.mat\"\n",
    "\n",
    "if not os.path.exists(filename):\n",
    "    r = requests.get(url)\n",
    "    with open(filename, \"wb\") as f:\n",
    "        f.write(r.content)\n",
    "\n",
    "mat_dict = loadmat(filename)\n",
    "mat_data = mat_dict[\"dataset\"]\n"
   ]
  },
  {
   "cell_type": "code",
   "execution_count": null,
   "metadata": {},
   "outputs": [],
   "source": [
    "def mat_to_numpy_dict(mat_data, index=0, verbose=True):\n",
    "    \"\"\"Convert data from MATLAB to a dictionary of NumPy arrays.\"\"\"\n",
    "    if mat_data.dtype.names is None:\n",
    "        if verbose:\n",
    "            print(\"\\t\" * index, mat_data.shape)\n",
    "        if mat_data.shape[0] == 1:\n",
    "            return mat_data[0]\n",
    "        else:\n",
    "            return [mat_data[i] for i in range(mat_data.shape[0])]\n",
    "    else:\n",
    "        res = {}\n",
    "        for name in mat_data.dtype.names:\n",
    "            shape = mat_data[name].shape\n",
    "            if verbose:\n",
    "                print(\"\\t\" * index, name, mat_data[name].shape)\n",
    "            if len(shape) != 2:\n",
    "                raise RuntimeError(f\"Unexpected shape for {name}: {shape}.\")\n",
    "            if shape[0] == 1:\n",
    "                res[name] = mat_to_numpy_dict(mat_data[name][0][0], index + 1, verbose)\n",
    "                if shape[1] > 1:\n",
    "                    res[name] = [res[name]]\n",
    "                    remaining = [\n",
    "                        mat_to_numpy_dict(mat_data[name][0, i], index + 1, False)\n",
    "                        for i in range(1, shape[1])\n",
    "                    ]\n",
    "                    res[name].extend(remaining)\n",
    "            else:\n",
    "                raise RuntimeError(f\"Unexpected shape for {name}: {shape}.\")\n",
    "        return res\n",
    "\n"
   ]
  },
  {
   "cell_type": "code",
   "execution_count": null,
   "metadata": {},
   "outputs": [],
   "source": [
    "data_dict = mat_to_numpy_dict(mat_data, verbose=False)\n"
   ]
  },
  {
   "cell_type": "code",
   "execution_count": null,
   "metadata": {},
   "outputs": [],
   "source": [
    "def get_experiment(data_dict, exp_name, rat_name=None):\n",
    "    exp_dict = data_dict[exp_name]\n",
    "    rat_names = exp_dict[\"ratName\"]\n",
    "    rat_idx = 0 if rat_name not in rat_names else rat_names.index(rat_name)\n",
    "    res_dict = exp_dict[\"controlSummaryData\"][rat_idx]\n",
    "\n",
    "    def get_responses(res_dict, stim_idx):\n",
    "        high_resp = res_dict[\"nHighResponses\"][stim_idx]\n",
    "        low_resp = res_dict[\"nTrials\"][stim_idx] - high_resp\n",
    "        return np.vstack((high_resp, low_resp))\n",
    "\n",
    "    conditions = res_dict[\"condition\"]\n",
    "    stim_rates = res_dict[\"stimRates\"][0]\n",
    "    assert np.all(stim_rates == np.arange(9, 17))\n",
    "    auditory = get_responses(res_dict, conditions.index(\"Auditory\"))\n",
    "    visual = get_responses(res_dict, conditions.index(\"Visual\"))\n",
    "    multisensory = get_responses(res_dict, conditions.index(\"Multisensory\"))\n",
    "    return stim_rates, auditory, visual, multisensory\n",
    "\n"
   ]
  },
  {
   "cell_type": "code",
   "execution_count": null,
   "metadata": {},
   "outputs": [],
   "source": [
    "stim_rates, auditory, visual, multisensory = get_experiment(\n",
    "    data_dict, \"multisensory\", \"metaRat\"\n",
    ")\n"
   ]
  },
  {
   "cell_type": "code",
   "execution_count": null,
   "metadata": {},
   "outputs": [],
   "source": [
    "def psychometric_fn(mu, sigma, gamma, lamda, x):\n",
    "    return gamma + (1 - gamma - lamda) * norm.cdf(x, mu, sigma)\n",
    "\n",
    "\n",
    "def psychometric_nll(params, stim_rates, responses):\n",
    "    mu, sigma, gamma, lamda = params\n",
    "    p = psychometric_fn(mu, sigma, gamma, lamda, stim_rates)\n",
    "    return -np.sum(responses[0] * np.log(p) + responses[1] * np.log(1 - p))\n",
    "\n",
    "\n",
    "def psychometric_fit(\n",
    "    stim_rates,\n",
    "    responses,\n",
    "    init=(12.5, 1, 0, 0),\n",
    "    bounds=((None, None), (None, None), (0, 1), (0, 1)),\n",
    "):\n",
    "    res = minimize(psychometric_nll, init, args=(stim_rates, responses), bounds=bounds)\n",
    "    return res.x\n",
    "\n",
    "\n",
    "def psychometric_plot(stim_rates, responses, params, labels):\n",
    "    x = np.linspace(min(stim_rates), max(stim_rates), 100)\n",
    "    for (mu, sigma, gamma, lamda), label in zip(params, labels):\n",
    "        y = psychometric_fn(mu, sigma, gamma, lamda, x)\n",
    "        plt.plot(x, y, label=label)\n",
    "    for resp in responses:\n",
    "        plt.scatter(stim_rates, resp[0] / resp.sum(axis=0), marker=\"x\", color=\"k\")\n",
    "    plt.ylim(0, 1)\n",
    "    plt.legend()\n",
    "\n"
   ]
  },
  {
   "cell_type": "code",
   "execution_count": null,
   "metadata": {},
   "outputs": [],
   "source": [
    "params_auditory = psychometric_fit(stim_rates, auditory)\n",
    "params_visual = psychometric_fit(stim_rates, visual)\n",
    "params_multisensory = psychometric_fit(stim_rates, multisensory)\n"
   ]
  },
  {
   "cell_type": "code",
   "execution_count": null,
   "metadata": {},
   "outputs": [],
   "source": [
    "params = (params_auditory, params_visual, params_multisensory)\n",
    "resps = (auditory, visual, multisensory)\n",
    "labels = (\"Auditory\", \"Visual\", \"Multisensory\")\n",
    "\n",
    "psychometric_plot(stim_rates, resps, params, labels)\n"
   ]
  }
 ],
 "metadata": {
  "kernelspec": {
   "display_name": "Python 3.10.4 ('hrl')",
   "language": "python",
   "name": "python3"
  },
  "language_info": {
   "codemirror_mode": {
    "name": "ipython",
    "version": 3
   },
   "file_extension": ".py",
   "mimetype": "text/x-python",
   "name": "python",
   "nbconvert_exporter": "python",
   "pygments_lexer": "ipython3",
   "version": "3.10.4"
  },
  "vscode": {
   "interpreter": {
    "hash": "ef50397c757689d52f3728863d489e0861ec0ea1c57ba14364404d0d1bc829e9"
   }
  }
 },
 "nbformat": 4,
 "nbformat_minor": 2
}
