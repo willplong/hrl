{
 "cells": [
  {
   "cell_type": "code",
   "execution_count": null,
   "metadata": {},
   "outputs": [],
   "source": [
    "import os\n",
    "\n",
    "import matplotlib.pyplot as plt\n",
    "import numpy as np\n",
    "import requests\n",
    "from pymatreader import read_mat\n",
    "from scipy.optimize import minimize\n",
    "from scipy.stats import norm\n"
   ]
  },
  {
   "cell_type": "code",
   "execution_count": null,
   "metadata": {},
   "outputs": [],
   "source": [
    "url = \"https://labshare.cshl.edu/shares/library/repository/38957/lapseDataset2020.mat\"\n",
    "filename = \"lapse_data.mat\"\n",
    "\n",
    "if not os.path.exists(filename):\n",
    "    r = requests.get(url)\n",
    "    with open(filename, \"wb\") as f:\n",
    "        f.write(r.content)\n",
    "\n",
    "mat_data = read_mat(filename)\n"
   ]
  },
  {
   "cell_type": "code",
   "execution_count": null,
   "metadata": {},
   "outputs": [],
   "source": [
    "def get_experiment(mat_data, exp_name, rat_name=None):\n",
    "    data_dict = mat_data[\"dataset\"]\n",
    "    exp_dict = data_dict[exp_name]\n",
    "    rat_names = exp_dict[\"ratName\"]\n",
    "    rat_idx = 0 if rat_name not in rat_names else rat_names.index(rat_name)\n",
    "    res_dict = exp_dict[\"controlSummaryData\"][rat_idx]\n",
    "\n",
    "    def get_responses(res_dict, stim_idx):\n",
    "        high_resp = res_dict[\"nHighResponses\"][stim_idx]\n",
    "        low_resp = res_dict[\"nTrials\"][stim_idx] - high_resp\n",
    "        return np.vstack((high_resp, low_resp))\n",
    "\n",
    "    conditions = res_dict[\"condition\"]\n",
    "    stim_rates = res_dict[\"stimRates\"][0]\n",
    "    assert np.all(stim_rates == np.arange(9, 17))\n",
    "    auditory = get_responses(res_dict, conditions.index(\"Auditory\"))\n",
    "    visual = get_responses(res_dict, conditions.index(\"Visual\"))\n",
    "    multisensory = get_responses(res_dict, conditions.index(\"Multisensory\"))\n",
    "    return stim_rates, auditory, visual, multisensory\n",
    "\n"
   ]
  },
  {
   "cell_type": "code",
   "execution_count": null,
   "metadata": {},
   "outputs": [],
   "source": [
    "stim_rates, auditory, visual, multisensory = get_experiment(\n",
    "    mat_data, \"multisensory\", \"metaRat\"\n",
    ")\n",
    "\n"
   ]
  },
  {
   "cell_type": "code",
   "execution_count": null,
   "metadata": {},
   "outputs": [],
   "source": [
    "def psychometric_fn(mu, sigma, gamma, lamda, x):\n",
    "    return gamma + (1 - gamma - lamda) * norm.cdf(x, mu, sigma)\n",
    "\n",
    "\n",
    "def psychometric_nll(params, stim_rates, responses):\n",
    "    mu, sigma, gamma, lamda = params\n",
    "    p = psychometric_fn(mu, sigma, gamma, lamda, stim_rates)\n",
    "    return -np.sum(responses[0] * np.log(p) + responses[1] * np.log(1 - p))\n",
    "\n",
    "\n",
    "def psychometric_fit(\n",
    "    stim_rates,\n",
    "    responses,\n",
    "    init=(12.5, 1, 0, 0),\n",
    "    bounds=((None, None), (None, None), (0, 1), (0, 1)),\n",
    "):\n",
    "    res = minimize(psychometric_nll, init, args=(stim_rates, responses), bounds=bounds)\n",
    "    return res.x\n",
    "\n",
    "\n",
    "def psychometric_plot(stim_rates, responses, params, labels):\n",
    "    x = np.linspace(min(stim_rates), max(stim_rates), 100)\n",
    "    for (mu, sigma, gamma, lamda), label in zip(params, labels):\n",
    "        y = psychometric_fn(mu, sigma, gamma, lamda, x)\n",
    "        plt.plot(x, y, label=label)\n",
    "    for resp in responses:\n",
    "        plt.scatter(stim_rates, resp[0] / resp.sum(axis=0), marker=\"x\", color=\"k\")\n",
    "    plt.ylim(0, 1)\n",
    "    plt.legend()\n",
    "\n"
   ]
  },
  {
   "cell_type": "code",
   "execution_count": null,
   "metadata": {},
   "outputs": [],
   "source": [
    "params_auditory = psychometric_fit(stim_rates, auditory)\n",
    "params_visual = psychometric_fit(stim_rates, visual)\n",
    "params_multisensory = psychometric_fit(stim_rates, multisensory)\n",
    "\n"
   ]
  },
  {
   "cell_type": "code",
   "execution_count": null,
   "metadata": {},
   "outputs": [],
   "source": [
    "params = (params_auditory, params_visual, params_multisensory)\n",
    "resps = (auditory, visual, multisensory)\n",
    "labels = (\"Auditory\", \"Visual\", \"Multisensory\")\n",
    "\n",
    "psychometric_plot(stim_rates, resps, params, labels)\n",
    "\n"
   ]
  }
 ],
 "metadata": {
  "language_info": {
   "codemirror_mode": {
    "name": "ipython",
    "version": 3
   },
   "file_extension": ".py",
   "mimetype": "text/x-python",
   "name": "python",
   "nbconvert_exporter": "python",
   "pygments_lexer": "ipython3",
   "version": 3
  }
 },
 "nbformat": 4,
 "nbformat_minor": 2
}
